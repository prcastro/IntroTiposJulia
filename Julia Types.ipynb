{
 "metadata": {
  "language": "Julia",
  "name": "",
  "signature": "sha256:4081fe3bfd3f8c0c0e5eeb8c34326ba6cbda7e2804347b17865093e8bd19a511"
 },
 "nbformat": 3,
 "nbformat_minor": 0,
 "worksheets": [
  {
   "cells": [
    {
     "cell_type": "heading",
     "level": 1,
     "metadata": {},
     "source": [
      "Introdu\u00e7\u00e3o a tipos em Julia"
     ]
    },
    {
     "cell_type": "markdown",
     "metadata": {},
     "source": [
      "Os tipos em Julia s\u00e3o organizados em uma \u00e1rvore. Na raiz da arvore est\u00e1 o tipo `Any` e dizemos que `Any` \u00e9 supertipo de qualquer tipo em Julia. De forma equivalente, dizemos que todos os tipos d\u00e3o subtipos de `Any`:"
     ]
    },
    {
     "cell_type": "code",
     "collapsed": false,
     "input": [
      "Any"
     ],
     "language": "python",
     "metadata": {},
     "outputs": [
      {
       "metadata": {},
       "output_type": "pyout",
       "prompt_number": 1,
       "text": [
        "Any"
       ]
      }
     ],
     "prompt_number": 1
    },
    {
     "cell_type": "code",
     "collapsed": false,
     "input": [
      "subtypes(Any)"
     ],
     "language": "python",
     "metadata": {},
     "outputs": [
      {
       "metadata": {},
       "output_type": "pyout",
       "prompt_number": 2,
       "text": [
        "176-element Array{Any,1}:\n",
        " AbstractArray{T,N}                                                                                   \n",
        " AbstractCmd                                                                                          \n",
        " AbstractHeap{VT}                                                                                     \n",
        " AbstractREPL                                                                                         \n",
        " AbstractRNG                                                                                          \n",
        " Accumulator{T,V<:Number}                                                                             \n",
        " Algorithm                                                                                            \n",
        " Any                                                                                                  \n",
        " Associative{K,V}                                                                                     \n",
        " AsyncWork                                                                                            \n",
        " Available                                                                                            \n",
        " BoundingBox                                                                                          \n",
        " Box                                                                                                  \n",
        " \u22ee                                                                                                    \n",
        " VersionSet                                                                                           \n",
        " VersionWeight                                                                                        \n",
        " WeakRef                                                                                              \n",
        " Worker                                                                                               \n",
        " ZeroOffsetVector                                                                                     \n",
        " Zip2{I1,I2}                                                                                          \n",
        " Zip{I<:(Any...,)}                                                                                    \n",
        " c_CholmodDense{T<:Union(Float64,Complex{Float32},Float32,Complex{Float64})}                          \n",
        " c_CholmodFactor{Tv<:Union(Float64,Complex{Float32},Float32,Complex{Float64}),Ti<:Union(Int32,Int64)} \n",
        " c_CholmodSparse{Tv<:Union(Float64,Complex{Float32},Float32,Complex{Float64}),Ti<:Union(Int32,Int64)} \n",
        " c_CholmodTriplet{Tv<:Union(Float64,Complex{Float32},Float32,Complex{Float64}),Ti<:Union(Int32,Int64)}\n",
        " dl_phdr_info                                                                                         "
       ]
      }
     ],
     "prompt_number": 2
    },
    {
     "cell_type": "markdown",
     "metadata": {},
     "source": [
      "Ainda na anologia com uma \u00e1rvore, cada um de seus n\u00f3s (incluindo a raiz, `Any` ) \u00e9 um tipo abstrato. As folhas da \u00e1rvore, tipos que n\u00e3o possuem nenhum subtipo, s\u00e3o ditas tipos concretos.\n",
      "\n",
      "Tipos abstratos n\u00e3o podem ser contru\u00eddos, ou seja, nenhum objeto \u00e9 de um tipo abstrato. Criamos um tipo abstrato fazendo:"
     ]
    },
    {
     "cell_type": "code",
     "collapsed": false,
     "input": [
      "abstract Pessoa"
     ],
     "language": "python",
     "metadata": {},
     "outputs": [],
     "prompt_number": 3
    },
    {
     "cell_type": "markdown",
     "metadata": {},
     "source": [
      "Tipos concretos no entanto, n\u00e3o s\u00f3 podem ser constru\u00eddos, como tamb\u00e9m possuem campos. Estes campos s\u00e3o onde guardamos os dados do objeto. Isso ficar\u00e1 claro com a defini\u00e7\u00e3o do tipo concreto `Foo`:"
     ]
    },
    {
     "cell_type": "code",
     "collapsed": false,
     "input": [
      "type Foo\n",
      "    bar\n",
      "    n\u00famero::Int\n",
      "end"
     ],
     "language": "python",
     "metadata": {},
     "outputs": [],
     "prompt_number": 4
    },
    {
     "cell_type": "markdown",
     "metadata": {},
     "source": [
      "Note que esse tipo possui dois campos: o primeiro \u00e9 `bar` e pode ser qualquer tipo de dado; o segundo \u00e9 `n\u00famero` e deve ser obrigat\u00f3riamente do tipo `Int`. Mas como construimos um objeto do tipo `Foo`? Por padr\u00e3o, Julia cria uma fun\u00e7\u00e3o com o mesmo nome do tipo, cujos parametros s\u00e3o referentes a cada campo. Exemplo:"
     ]
    },
    {
     "cell_type": "code",
     "collapsed": false,
     "input": [
      "a = Foo(\"Texto\", 1234)\n",
      "println(typeof(a))"
     ],
     "language": "python",
     "metadata": {},
     "outputs": [
      {
       "output_type": "stream",
       "stream": "stdout",
       "text": [
        "Foo\n"
       ]
      }
     ],
     "prompt_number": 5
    },
    {
     "cell_type": "markdown",
     "metadata": {},
     "source": [
      "Futuramente mostraremos como esse construtor padr\u00e3o pode ser mudado.\n",
      "\n",
      "Podemos acessar os campos de `a`, fazendo:"
     ]
    },
    {
     "cell_type": "code",
     "collapsed": false,
     "input": [
      "a.bar"
     ],
     "language": "python",
     "metadata": {},
     "outputs": [
      {
       "metadata": {},
       "output_type": "pyout",
       "prompt_number": 6,
       "text": [
        "\"Texto\""
       ]
      }
     ],
     "prompt_number": 6
    },
    {
     "cell_type": "code",
     "collapsed": false,
     "input": [
      "a.n\u00famero"
     ],
     "language": "python",
     "metadata": {},
     "outputs": [
      {
       "metadata": {},
       "output_type": "pyout",
       "prompt_number": 7,
       "text": [
        "1234"
       ]
      }
     ],
     "prompt_number": 7
    },
    {
     "cell_type": "markdown",
     "metadata": {},
     "source": [
      "Para criar um subtipo concreto de `Pessoa`, fazemos:"
     ]
    },
    {
     "cell_type": "code",
     "collapsed": false,
     "input": [
      "type Brasileiro <: Pessoa\n",
      "    nome::String\n",
      "    RG::Int\n",
      "    vivo::Bool\n",
      "end"
     ],
     "language": "python",
     "metadata": {},
     "outputs": [],
     "prompt_number": 8
    },
    {
     "cell_type": "code",
     "collapsed": false,
     "input": [
      "super(Brasileiro) #Supertipo de Brasileiro"
     ],
     "language": "python",
     "metadata": {},
     "outputs": [
      {
       "metadata": {},
       "output_type": "pyout",
       "prompt_number": 9,
       "text": [
        "Pessoa"
       ]
      }
     ],
     "prompt_number": 9
    },
    {
     "cell_type": "code",
     "collapsed": false,
     "input": [
      "brazuca = Brasileiro(\"Paulo\", 12345, true)"
     ],
     "language": "python",
     "metadata": {},
     "outputs": [
      {
       "metadata": {},
       "output_type": "pyout",
       "prompt_number": 10,
       "text": [
        "Brasileiro(\"Paulo\",12345,true)"
       ]
      }
     ],
     "prompt_number": 10
    },
    {
     "cell_type": "markdown",
     "metadata": {},
     "source": [
      "Seria conveniente criarmos um atalho para construir Brasileiros com o campo `vivo == true`. Muito simples, basta fazermos:"
     ]
    },
    {
     "cell_type": "code",
     "collapsed": false,
     "input": [
      "Brasileiro(nome, RG) = Brasileiro(nome, RG, true)"
     ],
     "language": "python",
     "metadata": {},
     "outputs": [
      {
       "metadata": {},
       "output_type": "pyout",
       "prompt_number": 11,
       "text": [
        "Brasileiro (constructor with 3 methods)"
       ]
      }
     ],
     "prompt_number": 11
    },
    {
     "cell_type": "code",
     "collapsed": false,
     "input": [
      "outro_brazuca = Brasileiro(\"Artur\", 12345) "
     ],
     "language": "python",
     "metadata": {},
     "outputs": [
      {
       "metadata": {},
       "output_type": "pyout",
       "prompt_number": 12,
       "text": [
        "Brasileiro(\"Artur\",12345,true)"
       ]
      }
     ],
     "prompt_number": 12
    },
    {
     "cell_type": "heading",
     "level": 3,
     "metadata": {},
     "source": [
      "Tipo ModInt"
     ]
    },
    {
     "cell_type": "markdown",
     "metadata": {},
     "source": [
      "Nossa inten\u00e7\u00e3o nessa se\u00e7\u00e3o \u00e9 criar um tipo que se comporta da seguinte maneira: ao criarmos um objeto Mod2, passamos um n\u00famero `n`, por\u00e9m o que fica guardado no campo `valor` deste objeto ser\u00e1 `n` m\u00f3dulo 2 (ou seja, `n % 2`).\n",
      "\n",
      "Para fazermos isso, usaremos uma marotagem:\n",
      "\n",
      "Por padr\u00e3o temos a fun\u00e7\u00e3o construtora `Mod2(x)` que pega o argumento `x` e coloca no campo `valor` do objeto. N\u00f3s trocaremos essa fun\u00e7\u00e3o padr\u00e3o por uma fun\u00e7\u00e3o contrutora `Mod2(x)` que recebe um argumento `x` e guarda `x % 2` no campo `valor` do objeto."
     ]
    },
    {
     "cell_type": "code",
     "collapsed": false,
     "input": [
      "type Mod2 <: Integer\n",
      "    valor::Int\n",
      "    Mod2(valor) = new(valor % 2) #Nova fun\u00e7\u00e3o construtora\n",
      "end"
     ],
     "language": "python",
     "metadata": {},
     "outputs": [],
     "prompt_number": 13
    },
    {
     "cell_type": "markdown",
     "metadata": {},
     "source": [
      "Observe como criamos novos objetos desse tipo:"
     ]
    },
    {
     "cell_type": "code",
     "collapsed": false,
     "input": [
      "Mod2(0)"
     ],
     "language": "python",
     "metadata": {},
     "outputs": [
      {
       "metadata": {},
       "output_type": "pyout",
       "prompt_number": 14,
       "text": [
        "Mod2(0)"
       ]
      }
     ],
     "prompt_number": 14
    },
    {
     "cell_type": "code",
     "collapsed": false,
     "input": [
      "Mod2(1)"
     ],
     "language": "python",
     "metadata": {},
     "outputs": [
      {
       "metadata": {},
       "output_type": "pyout",
       "prompt_number": 15,
       "text": [
        "Mod2(1)"
       ]
      }
     ],
     "prompt_number": 15
    },
    {
     "cell_type": "code",
     "collapsed": false,
     "input": [
      "Mod2(2)"
     ],
     "language": "python",
     "metadata": {},
     "outputs": [
      {
       "metadata": {},
       "output_type": "pyout",
       "prompt_number": 16,
       "text": [
        "Mod2(0)"
       ]
      }
     ],
     "prompt_number": 16
    },
    {
     "cell_type": "code",
     "collapsed": false,
     "input": [
      "Mod2(1123123)"
     ],
     "language": "python",
     "metadata": {},
     "outputs": [
      {
       "metadata": {},
       "output_type": "pyout",
       "prompt_number": 17,
       "text": [
        "Mod2(1)"
       ]
      }
     ],
     "prompt_number": 17
    },
    {
     "cell_type": "markdown",
     "metadata": {},
     "source": [
      "Mas porque precisamos ficar limitador ao *m\u00f3dulo 2*? Porque n\u00e3o podemos fazer tipos *m\u00f3dulo k*, para qualquer *k* inteiro?\n",
      "\n",
      "Ao inv\u00e9s de criarmos um tipo para cada *k*, podemos criar um tipo parametrizado por *k*. Ou seja, teremos um tipo `ModInt{k}` para cada valor de `k`."
     ]
    },
    {
     "cell_type": "code",
     "collapsed": false,
     "input": [
      "type ModInt{k} <: Integer\n",
      "    valor::Int\n",
      "    ModInt(valor) = new(valor % k)\n",
      "end"
     ],
     "language": "python",
     "metadata": {},
     "outputs": [],
     "prompt_number": 18
    },
    {
     "cell_type": "code",
     "collapsed": false,
     "input": [
      "ModInt{2}(2)"
     ],
     "language": "python",
     "metadata": {},
     "outputs": [
      {
       "metadata": {},
       "output_type": "pyout",
       "prompt_number": 19,
       "text": [
        "ModInt{2}(0)"
       ]
      }
     ],
     "prompt_number": 19
    },
    {
     "cell_type": "code",
     "collapsed": false,
     "input": [
      "ModInt{5}(3123)"
     ],
     "language": "python",
     "metadata": {},
     "outputs": [
      {
       "metadata": {},
       "output_type": "pyout",
       "prompt_number": 20,
       "text": [
        "ModInt{5}(3)"
       ]
      }
     ],
     "prompt_number": 20
    },
    {
     "cell_type": "markdown",
     "metadata": {},
     "source": [
      "Observe que cada `ModInt{k}` \u00e9 um tipo por si mesmo:"
     ]
    },
    {
     "cell_type": "code",
     "collapsed": false,
     "input": [
      "v = ModInt{10}(12312)\n",
      "typeof(v)"
     ],
     "language": "python",
     "metadata": {},
     "outputs": [
      {
       "metadata": {},
       "output_type": "pyout",
       "prompt_number": 21,
       "text": [
        "ModInt{10} (constructor with 1 method)"
       ]
      }
     ],
     "prompt_number": 21
    },
    {
     "cell_type": "markdown",
     "metadata": {},
     "source": [
      "Mas chamar `ModInt{k}(valor)` toda vez que quisermos criar um objeto desse tipo \u00e9 um saco. Por isso, podemos criar um atalho, e fazer um construtor do tipo `ModInt(k, valor)`:"
     ]
    },
    {
     "cell_type": "code",
     "collapsed": false,
     "input": [
      "ModInt(valor, k) = ModInt{k}(valor)"
     ],
     "language": "python",
     "metadata": {},
     "outputs": [
      {
       "metadata": {},
       "output_type": "pyout",
       "prompt_number": 22,
       "text": [
        "ModInt{k} (constructor with 1 method)"
       ]
      }
     ],
     "prompt_number": 22
    },
    {
     "cell_type": "code",
     "collapsed": false,
     "input": [
      "ModInt(11,5)"
     ],
     "language": "python",
     "metadata": {},
     "outputs": [
      {
       "metadata": {},
       "output_type": "pyout",
       "prompt_number": 23,
       "text": [
        "ModInt{5}(1)"
       ]
      }
     ],
     "prompt_number": 23
    },
    {
     "cell_type": "markdown",
     "metadata": {},
     "source": [
      "Mas ainda temos um problema: toda vez que imprimimos o valor de `ModInt{k}`, na tela aparece `ModInt{k}(valor)`. Convenhamos que esse padr\u00e3o \u00e9 muito feio.\n",
      "\n",
      "Podemos imprimir esse tipo na tela de maneira mais bonita:"
     ]
    },
    {
     "cell_type": "code",
     "collapsed": false,
     "input": [
      "importall Base\n",
      "\n",
      "#Ensina a mostrar ModInt{k} na tela\n",
      "show{k}(io::IO, n::ModInt{k}) = print(io, \"$(n.valor) mod $k\")"
     ],
     "language": "python",
     "metadata": {},
     "outputs": [
      {
       "metadata": {},
       "output_type": "pyout",
       "prompt_number": 24,
       "text": [
        "show (generic function with 90 methods)"
       ]
      }
     ],
     "prompt_number": 24
    },
    {
     "cell_type": "markdown",
     "metadata": {},
     "source": [
      "Mas os objetos `ModInt{k}` ainda n\u00e3o podem ser somados, subtraidos, etc."
     ]
    },
    {
     "cell_type": "code",
     "collapsed": false,
     "input": [
      "ModInt(11,5) #Deve mostrar algo mais bonito agora"
     ],
     "language": "python",
     "metadata": {},
     "outputs": [
      {
       "metadata": {},
       "output_type": "pyout",
       "prompt_number": 25,
       "text": [
        "1 mod 5"
       ]
      }
     ],
     "prompt_number": 25
    },
    {
     "cell_type": "code",
     "collapsed": false,
     "input": [
      "ModInt(11,5) + ModInt(1,5)"
     ],
     "language": "python",
     "metadata": {},
     "outputs": [
      {
       "ename": "LoadError",
       "evalue": "+ not defined for ModInt{5}\nwhile loading In[26], in expression starting on line 1",
       "output_type": "pyerr",
       "traceback": [
        "+ not defined for ModInt{5}\nwhile loading In[26], in expression starting on line 1",
        "",
        " in + at promotion.jl:188"
       ]
      }
     ],
     "prompt_number": 26
    },
    {
     "cell_type": "markdown",
     "metadata": {},
     "source": [
      "Como definimos isso em Julia? Simples, basta definir as fun\u00e7\u00f5es `+`, `-`, e `*` para esses tipos"
     ]
    },
    {
     "cell_type": "code",
     "collapsed": true,
     "input": [
      "#Ensina cada ModInt{k} a somar, subtrair e multiplicar\n",
      "#Cria cada m\u00e9todo para cada valor de k\n",
      "-{k}(a::ModInt{k}) = ModInt{k}(-a.value)\n",
      "-{k}(a::ModInt{k}, b::ModInt{k}) = ModInt{k}(a.valor - b.valor)\n",
      "+{k}(a::ModInt{k}, b::ModInt{k}) = ModInt{k}(a.valor + b.valor)\n",
      "*{k}(a::ModInt{k}, b::ModInt{k}) = ModInt{k}(a.valor * b.valor)"
     ],
     "language": "python",
     "metadata": {},
     "outputs": [
      {
       "metadata": {},
       "output_type": "pyout",
       "prompt_number": 27,
       "text": [
        "* (generic function with 127 methods)"
       ]
      }
     ],
     "prompt_number": 27
    },
    {
     "cell_type": "markdown",
     "metadata": {},
     "source": [
      "Podemos agora fazer as opera\u00e7\u00f5es:"
     ]
    },
    {
     "cell_type": "code",
     "collapsed": false,
     "input": [
      "ModInt(11,5) + ModInt(1,5)"
     ],
     "language": "python",
     "metadata": {},
     "outputs": [
      {
       "metadata": {},
       "output_type": "pyout",
       "prompt_number": 28,
       "text": [
        "2 mod 5"
       ]
      }
     ],
     "prompt_number": 28
    },
    {
     "cell_type": "code",
     "collapsed": false,
     "input": [
      "ModInt(11,5) * ModInt(1,5)"
     ],
     "language": "python",
     "metadata": {},
     "outputs": [
      {
       "metadata": {},
       "output_type": "pyout",
       "prompt_number": 29,
       "text": [
        "1 mod 5"
       ]
      }
     ],
     "prompt_number": 29
    },
    {
     "cell_type": "markdown",
     "metadata": {},
     "source": [
      "Por\u00e9m os objetos do tipo `ModInt{K}` ainda n\u00e3o podem somar com outros tipos, por exemplo, `Int`s.\n",
      "\n",
      "Quando somamos, subtra\u00edmos, multiplicamos ou dividimos dois subtipos diferentes de `Integer`, como `ModInt{k}` e `Int`, Julia tenta achar um tipo `T` em comum, e converter os tipos para esse tipo `T`. No nosso caso, o tipo em comum ser\u00e1 o pr\u00f3prio `ModInt{k}`, portanto apenar o `Int` precisa ser convertido:"
     ]
    },
    {
     "cell_type": "code",
     "collapsed": false,
     "input": [
      "promote_rule{k}(::Type{ModInt{k}}, ::Type{Int}) = ModInt{k}"
     ],
     "language": "python",
     "metadata": {},
     "outputs": [
      {
       "metadata": {},
       "output_type": "pyout",
       "prompt_number": 30,
       "text": [
        "promote_rule (generic function with 112 methods)"
       ]
      }
     ],
     "prompt_number": 30
    },
    {
     "cell_type": "markdown",
     "metadata": {},
     "source": [
      "Por\u00e9m, ainda n\u00e3o podemos somar os tipos, pois Julia n\u00e3o sabe como fazer a convers\u00e3o de `Int` para `ModInt{k}`. Para ensinar Julia a fazer essa convers\u00e3o, basta definir a fun\u00e7\u00e3o `convert`:"
     ]
    },
    {
     "cell_type": "code",
     "collapsed": false,
     "input": [
      "convert{k}(::Type{ModInt{k}}, i::Int) = ModInt{k}(i)"
     ],
     "language": "python",
     "metadata": {},
     "outputs": [
      {
       "metadata": {},
       "output_type": "pyout",
       "prompt_number": 31,
       "text": [
        "convert (generic function with 445 methods)"
       ]
      }
     ],
     "prompt_number": 31
    },
    {
     "cell_type": "markdown",
     "metadata": {},
     "source": [
      "Agora Julia sabe para qual tipo em comum deve promover `Int` e `ModInt{k}`, e como converter `Int` para `ModInt{k}`. J\u00e1 temos todos os ingredientes necess\u00e1rios para fazer as opera\u00e7\u00f5es aritm\u00e9ticas com esses dois tipos:"
     ]
    },
    {
     "cell_type": "code",
     "collapsed": false,
     "input": [
      "ModInt(5,2) + 2"
     ],
     "language": "python",
     "metadata": {},
     "outputs": [
      {
       "metadata": {},
       "output_type": "pyout",
       "prompt_number": 32,
       "text": [
        "1 mod 2"
       ]
      }
     ],
     "prompt_number": 32
    },
    {
     "cell_type": "code",
     "collapsed": false,
     "input": [
      "ModInt(5,2) * 2"
     ],
     "language": "python",
     "metadata": {},
     "outputs": [
      {
       "metadata": {},
       "output_type": "pyout",
       "prompt_number": 33,
       "text": [
        "0 mod 2"
       ]
      }
     ],
     "prompt_number": 33
    },
    {
     "cell_type": "markdown",
     "metadata": {},
     "source": [
      "\u00c9 importante notar que essa promo\u00e7\u00e3o \u00e9 feita automaticamente apenas para as opera\u00e7\u00f5es `+`, `-`, `*` e `/` e apenas para n\u00fameros (subtipos de `Number`). Para quaisquer outras opera\u00e7\u00f5es, essa promo\u00e7\u00e3o deve ser definida pelo usu\u00e1rio."
     ]
    }
   ],
   "metadata": {}
  }
 ]
}